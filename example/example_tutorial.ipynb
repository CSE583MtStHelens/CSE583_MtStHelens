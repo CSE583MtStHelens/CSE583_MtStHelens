{
 "cells": [
  {
   "cell_type": "markdown",
   "id": "45baeee8-3c9b-47f7-9bee-63441bd83ea5",
   "metadata": {},
   "source": [
    "# Tutorial"
   ]
  },
  {
   "cell_type": "code",
   "execution_count": null,
   "id": "ad09cd2a-7428-4746-b4d2-19766d22cc75",
   "metadata": {},
   "outputs": [],
   "source": [
    "import pandas as pd\n",
    "import numpy as np\n",
    "import matplotlib.pyplot as plt\n",
    "import datetime"
   ]
  },
  {
   "cell_type": "code",
   "execution_count": null,
   "id": "d1d5e8bf-b89e-4185-9c76-b1ad6f055e9f",
   "metadata": {},
   "outputs": [],
   "source": [
    "import sys, os\n",
    "# Get the current script’s directory\n",
    "current_directory = os.getcwd()\n",
    "# Go back one folder level\n",
    "parent_directory = os.path.abspath(os.path.join(current_directory, os.pardir))\n",
    "sys.path.insert(0, parent_directory)\n",
    "from mtsthelens import preprocessing_functions, manipulation_functions, plotting_functions"
   ]
  },
  {
   "cell_type": "markdown",
   "id": "f1cdf993-c390-467f-b55f-2b861c6532ac",
   "metadata": {},
   "source": [
    "## Read & preprocess data"
   ]
  },
  {
   "cell_type": "code",
   "execution_count": null,
   "id": "258bcfb5-fa8c-4213-aa9b-42b15db9a6f5",
   "metadata": {
    "scrolled": true
   },
   "outputs": [],
   "source": [
    "# Read input data\n",
    "raw_data =  preprocessing_functions.read_data('../example/example_data/example_data_eruption.csv')\n",
    "\n",
    "# Data smoothing\n",
    "raw_data = raw_data.rolling('6H', center=True).median()\n",
    "\n",
    "# Remove outliers\n",
    "raw_data = raw_data.apply(preprocessing_functions.mask_df,axis=0) # peak detection\n",
    "raw_data"
   ]
  },
  {
   "cell_type": "markdown",
   "id": "fd476fb1-7ec5-4975-abf4-ea0b84262ef1",
   "metadata": {},
   "source": [
    "## Data manipulation"
   ]
  },
  {
   "cell_type": "markdown",
   "id": "8d4c0990-b22f-4812-9388-acf69dee573a",
   "metadata": {},
   "source": [
    "### Stack in Time"
   ]
  },
  {
   "cell_type": "code",
   "execution_count": null,
   "id": "d83c3c50-9969-4b61-84fb-e61a317ad7af",
   "metadata": {},
   "outputs": [],
   "source": [
    "# Find the seasonal trends in the data, and create a new dataframe with the seasonality removed\n",
    "data_seasonal_trends, data_seasonality_removed = manipulation_functions.stack_in_time(raw_data)\n",
    "data_seasonality_removed"
   ]
  },
  {
   "cell_type": "markdown",
   "id": "205a87e9-77c2-4406-a830-6e8f392c880a",
   "metadata": {},
   "source": [
    "### Stack in Space"
   ]
  },
  {
   "cell_type": "code",
   "execution_count": null,
   "id": "09f56f61-6b46-41db-afc7-0faa67cdebd1",
   "metadata": {},
   "outputs": [],
   "source": [
    "# Find the differences between the stations, and the average \n",
    "data_median_stackspace, data_stackspace_year = manipulation_functions.stack_in_space(raw_data)\n",
    "data_yearly_params = manipulation_functions.stack_space_year_param(data_stackspace_year)\n",
    "data_yearly_params"
   ]
  },
  {
   "cell_type": "markdown",
   "id": "1cc39c38-d693-497d-b2f4-718711f6268a",
   "metadata": {},
   "source": [
    "### Apply Filter"
   ]
  },
  {
   "cell_type": "code",
   "execution_count": null,
   "id": "871d970d-015b-48a3-842d-a99ded469e9d",
   "metadata": {},
   "outputs": [],
   "source": [
    "raw_data = raw_data.fillna(0)\n",
    "data_filtered = manipulation_functions.filter_data(raw_data)\n",
    "data_filtered"
   ]
  },
  {
   "cell_type": "markdown",
   "id": "c558cc7f-0eb9-4c69-9b75-b28088b69e6d",
   "metadata": {},
   "source": [
    "## Data plotting"
   ]
  },
  {
   "cell_type": "code",
   "execution_count": null,
   "id": "bc96b4a2-5682-49ae-8538-46a6d7eaa30d",
   "metadata": {},
   "outputs": [],
   "source": [
    "# read extrusion rate data\n",
    "extrusion_data = pd.read_csv('../example/example_data/dome_extrusion.txt', header=0, skiprows=0)\n",
    "extrusion_data.set_index('Date of photography',inplace=True)\n",
    "extrusion_data.index = pd.to_datetime(extrusion_data.index).tz_localize(None)\n",
    "extrusion_data.head()"
   ]
  },
  {
   "cell_type": "code",
   "execution_count": null,
   "id": "d1ab9e60",
   "metadata": {},
   "outputs": [],
   "source": [
    "# Plotting Time Stack vs Raw Data\n",
    "plotting_functions.plot_stack_vs_raw(data_seasonality_removed, raw_data)"
   ]
  },
  {
   "cell_type": "code",
   "execution_count": null,
   "id": "e992e542",
   "metadata": {},
   "outputs": [],
   "source": [
    "# Plotting Filtered Timestack vs Raw Data\n",
    "plotting_functions.plot_stack_vs_raw(data_filtered, raw_data)"
   ]
  },
  {
   "cell_type": "code",
   "execution_count": null,
   "id": "5537df6e",
   "metadata": {},
   "outputs": [],
   "source": [
    "# Plotting the Yearly parameters of the Space Stack\n",
    "plotting_functions.plot_space_params(data_yearly_params)"
   ]
  },
  {
   "cell_type": "code",
   "execution_count": null,
   "id": "b12e5e7e",
   "metadata": {},
   "outputs": [],
   "source": [
    "# Plotting the extrusion rates and comparing with Raw, Seasonality Removed and Filtered Data\n",
    "plotting_functions.plot_extrusion(extrusion_data, raw_data, data_yearly_params, data_filtered)"
   ]
  },
  {
   "cell_type": "markdown",
   "id": "fc365bc6",
   "metadata": {},
   "source": [
    "### Bring data into used shape"
   ]
  },
  {
   "cell_type": "code",
   "execution_count": null,
   "id": "1f6f6f6a",
   "metadata": {},
   "outputs": [],
   "source": [
    "df.head(), df_seasonality_removed.head(), df_filter.head()"
   ]
  },
  {
   "cell_type": "code",
   "execution_count": null,
   "id": "c0dfbb2d",
   "metadata": {},
   "outputs": [],
   "source": [
    "df\n"
   ]
  },
  {
   "cell_type": "code",
   "execution_count": null,
   "id": "10adc967",
   "metadata": {},
   "outputs": [],
   "source": [
    "df_stat = manipulation_functions.stackSpace_yearParam(df) # extract statistical values\n",
    "\n",
    "# append latitude and longitude of the station as rows for plotting\n",
    "df_stat.loc['latitude'] = [df_sta.loc[df_sta['Station'] == sta, 'latitude'].values[0] for sta in df_stat.columns]\n",
    "df_stat.loc['longitude'] = [df_sta.loc[df_sta['Station'] == sta, 'longitude'].values[0] for sta in df_stat.columns]\n",
    "df_stat"
   ]
  },
  {
   "cell_type": "code",
   "execution_count": null,
   "id": "e3ab0056",
   "metadata": {},
   "outputs": [],
   "source": [
    "# Create a dictionary with Date as key for, DataFrames\n",
    "dict_test = manipulation_functions.df2dict(df, 'year')\n",
    "dict_stat = {}\n",
    "for key, value in dict_test.items():\n",
    "    df_stat = manipulation_functions.stackSpace_yearParam(value) # extract statistical values\n",
    "\n",
    "    # append latitude and longitude of the station as rows for plotting\n",
    "    df_stat.loc['latitude'] = [df_sta.loc[df_sta['Station'] == sta, 'latitude'].values[0] for sta in df_stat.columns]\n",
    "    df_stat.loc['longitude'] = [df_sta.loc[df_sta['Station'] == sta, 'longitude'].values[0] for sta in df_stat.columns]\n",
    "    dict_stat[key] = df_stat\n",
    "\n",
    "# Save the dictionary as npy\n",
    "np.save('output/data/my_file.npy', dict_stat) "
   ]
  },
  {
   "cell_type": "markdown",
   "id": "eeebbbcb",
   "metadata": {},
   "source": [
    "### Create Plots for Animation"
   ]
  },
  {
   "cell_type": "code",
   "execution_count": null,
   "id": "81aa0638",
   "metadata": {},
   "outputs": [],
   "source": [
    "stations_data = np.load('output/data/my_file.npy',allow_pickle='TRUE').item()\n",
    "stations_data"
   ]
  },
  {
   "cell_type": "code",
   "execution_count": null,
   "id": "d3f742c1-b91c-489b-ae6f-9c9928aba519",
   "metadata": {},
   "outputs": [],
   "source": [
    "plotting_functions.animation(stations_data, 'median', 'inferno')"
   ]
  },
  {
   "cell_type": "code",
   "execution_count": null,
   "id": "e0806d51",
   "metadata": {},
   "outputs": [],
   "source": []
  },
  {
   "cell_type": "markdown",
   "id": "44f1ad46-3273-43d2-aa67-f10583a0bf08",
   "metadata": {},
   "source": [
    "### Plot Station sorted by distance"
   ]
  },
  {
   "cell_type": "markdown",
   "id": "07736423-9a7e-4fd4-9610-89d238251510",
   "metadata": {},
   "source": [
    "This part of the project is still in progress. The example date should produce an output but we did not wrote the final functions and tests for this part."
   ]
  },
  {
   "cell_type": "code",
   "execution_count": null,
   "id": "6b855344-4baf-4883-8c22-cd7e3b6ab862",
   "metadata": {
    "tags": []
   },
   "outputs": [],
   "source": [
    "# load station coordinates and drop the stations which are not of interresst\n",
    "sta_list =['BLIS', 'CDF', 'EDM', 'ELK', 'FL2', 'HOA', 'HSR', 'JRO', 'JUN', # specify the stations you want to use\n",
    "           'LOO', 'MIDE', 'NED', 'RAFT', 'REM', 'SEP', 'SHW', 'SOS', 'SPN5',\n",
    "           'STD', 'SUG', 'SWFL', 'TDL', 'USFR', 'VALT', 'YEL'] \n",
    "\n",
    "df_sta = pd.read_csv('./example_data/sta_log_long.txt', sep='|', header=0) # coordinates\n",
    "df_sta = df_sta[~df_sta['Station'].isin(list(set(df_sta.Station)-set(sta_list)))] # delete Stations which are not of interresst\n",
    "df_sta = df_sta.drop_duplicates(subset=['Station']) # drop one station if the station is not unique\n",
    "df_sta = df_sta.reset_index(drop=True)\n",
    "df_sta.head()"
   ]
  },
  {
   "cell_type": "code",
   "execution_count": null,
   "id": "eb58d0b3-7aac-4ccc-9119-656516de5e10",
   "metadata": {
    "scrolled": true,
    "tags": []
   },
   "outputs": [],
   "source": [
    "# get the distance between the stations and sort them in increasing order (relative to station SEP -> crater center)\n",
    "ref_sta = 'SEP' # define the reference station, we will get distance from all other stations to this station\n",
    "df_sta['dist'] = df_sta.apply(lambda x: preprocessing_functions.calculate_distance(x['latitude'],df_sta.latitude[df_sta['Station']==ref_sta].values[0] , x['longitude'],df_sta.longitude[df_sta['Station']==ref_sta].values[0] ), axis=1)\n",
    "df_sta = df_sta.sort_values(by=['dist'])\n",
    "sta_sorted = df_sta['Station'].to_list()\n",
    "df_sta.head()"
   ]
  },
  {
   "cell_type": "code",
   "execution_count": null,
   "id": "ae7fc392-3edd-439b-af81-d7485b9597dc",
   "metadata": {},
   "outputs": [],
   "source": [
    "# sort the columns corresponding to crater distane\n",
    "def sort_columns(df, column_order):\n",
    "    # Filter the list to only include existing columns in the DataFrame\n",
    "    valid_columns = [col for col in column_order if col in df.columns]\n",
    "\n",
    "    # Sort the DataFrame columns based on the valid columns list\n",
    "    sorted_columns = valid_columns + [col for col in df.columns if col not in valid_columns]\n",
    "\n",
    "    # Return the DataFrame with sorted columns\n",
    "    return df[sorted_columns]\n",
    "\n",
    "# column names and drop too short stations\n",
    "# value = df.rename(columns={\"YEL/VALT\": \"YEL\"})\n",
    "# value = df.drop(['NED','JRO'], axis=1)\n",
    "\n",
    "# resample\n",
    "df = df.resample('1D').median()\n",
    "\n",
    "# resample\n",
    "df = df.rolling('2D', center=True).median()\n",
    "\n",
    "# Sort the columns based on the desired order\n",
    "df_sorted = sort_columns(df, sta_sorted)\n",
    "\n",
    "# Display the result\n",
    "df_sorted"
   ]
  },
  {
   "cell_type": "code",
   "execution_count": null,
   "id": "02978700-a89d-4804-b876-5fea9e93ef2b",
   "metadata": {},
   "outputs": [],
   "source": [
    " # Normalize the columns\n",
    "df_sorted_norm = df_sorted.apply(preprocessing_functions.norm, axis=0)\n",
    "\n",
    "# Display the result\n",
    "df_sorted_norm"
   ]
  },
  {
   "cell_type": "code",
   "execution_count": null,
   "id": "b823ff0a-42ae-456b-824a-9cc7347839b6",
   "metadata": {},
   "outputs": [],
   "source": [
    "# read txt-file with UTC times and type of activity\n",
    "df_activity = pd.read_csv('./example_data/mt_st_helens_activity.txt', header=1, skiprows=11)\n",
    "df_activity.set_index('UTC',inplace=True)\n",
    "df_activity.index = pd.to_datetime(df_activity.index).tz_localize(None)\n",
    "\n",
    "activity_dome = df_activity.copy()\n",
    "activity_dome_start = activity_dome[activity_dome['activity' ]=='d'].take([0,2,3,4,5,6])\n",
    "activity_dome_end = activity_dome[activity_dome['activity' ]=='ed'].take([1,2,3,4,5,6])\n",
    "activity_dome_start, activity_dome_end"
   ]
  },
  {
   "cell_type": "code",
   "execution_count": null,
   "id": "2069c276-fa10-4aef-a5f3-6d0e4f0745e9",
   "metadata": {},
   "outputs": [],
   "source": [
    "from matplotlib.pyplot import cm\n",
    "# Plot each column with an offset along the y-axis\n",
    "year_plot = [2004, 2005]\n",
    "\n",
    "fig, ax = plt.subplots(figsize=(6.4*2, 4.8))\n",
    "offset = 0\n",
    "\n",
    "for col in df_sorted_norm.columns:\n",
    "    y_values = df_sorted_norm[col] + offset\n",
    "    ax.plot(df_sorted_norm.index, y_values, label=col)\n",
    "    offset += 0.5  # Adjust the offset as needed\n",
    "\n",
    "ax.set_yticks(np.arange(0.25,(len(df_sorted_norm.columns))/2,0.5))\n",
    "ax.set_yticklabels(df_sorted_norm.columns)\n",
    "    \n",
    "plt.xlim([datetime.datetime(year_plot[0],1,1), datetime.datetime(year_plot[-1],1,1)])\n",
    "\n",
    "color = cm.gray(np.linspace(0, 1, len(activity_dome_start)+2))\n",
    "\n",
    "for i in range(len(activity_dome_start)):\n",
    "    sdate = activity_dome_start.index[i].to_pydatetime() # start date\n",
    "    edate = activity_dome_end.index[i].to_pydatetime() # end date\n",
    "    ax.axvspan(sdate, edate, alpha=0.25, color=color[i])\n",
    "    \n",
    "plt.title('DSAR')\n",
    "# plt.savefig('output_path', dpi=300, bbox_inches='tight')\n",
    "plt.show()"
   ]
  }
 ],
 "metadata": {
  "kernelspec": {
   "display_name": "Python 3 (ipykernel)",
   "language": "python",
   "name": "python3"
  },
  "language_info": {
   "codemirror_mode": {
    "name": "ipython",
    "version": 3
   },
   "file_extension": ".py",
   "mimetype": "text/x-python",
   "name": "python",
   "nbconvert_exporter": "python",
   "pygments_lexer": "ipython3",
   "version": "3.12.0"
  }
 },
 "nbformat": 4,
 "nbformat_minor": 5
}
