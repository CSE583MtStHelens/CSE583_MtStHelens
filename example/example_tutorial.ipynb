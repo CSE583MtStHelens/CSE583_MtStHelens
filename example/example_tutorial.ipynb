{
 "cells": [
  {
   "cell_type": "markdown",
   "id": "45baeee8-3c9b-47f7-9bee-63441bd83ea5",
   "metadata": {},
   "source": [
    "# Tutorial"
   ]
  },
  {
   "cell_type": "code",
   "execution_count": 2,
   "id": "ad09cd2a-7428-4746-b4d2-19766d22cc75",
   "metadata": {},
   "outputs": [],
   "source": [
    "# import all packages you will need\n",
    "import pandas as pd\n",
    "import numpy as np\n",
    "import matplotlib.pyplot as plt\n",
    "import scipy\n",
    "import scipy.signal\n",
    "import datetime\n",
    "import glob\n",
    "import math\n",
    "import sys"
   ]
  },
  {
   "cell_type": "code",
   "execution_count": 3,
   "id": "d1d5e8bf-b89e-4185-9c76-b1ad6f055e9f",
   "metadata": {},
   "outputs": [],
   "source": [
    "import sys, os\n",
    "# Get the current script’s directory\n",
    "current_directory = os.getcwd()\n",
    "# Go back one folder level\n",
    "parent_directory = os.path.abspath(os.path.join(current_directory, os.pardir))\n",
    "sys.path.insert(0, parent_directory)\n",
    "from mtsthelens import preprocessing_functions, manipulation_functions, plotting_functions"
   ]
  },
  {
   "cell_type": "markdown",
   "id": "f1cdf993-c390-467f-b55f-2b861c6532ac",
   "metadata": {},
   "source": [
    "## Read & preprocess data"
   ]
  },
  {
   "cell_type": "code",
   "execution_count": 4,
   "id": "258bcfb5-fa8c-4213-aa9b-42b15db9a6f5",
   "metadata": {
    "scrolled": true
   },
   "outputs": [
    {
     "ename": "ValueError",
     "evalue": "The truth value of an array with more than one element is ambiguous. Use a.any() or a.all()",
     "output_type": "error",
     "traceback": [
      "\u001b[0;31m---------------------------------------------------------------------------\u001b[0m",
      "\u001b[0;31mValueError\u001b[0m                                Traceback (most recent call last)",
      "Cell \u001b[0;32mIn[4], line 2\u001b[0m\n\u001b[1;32m      1\u001b[0m \u001b[38;5;66;03m# Read input data\u001b[39;00m\n\u001b[0;32m----> 2\u001b[0m df \u001b[38;5;241m=\u001b[39m  \u001b[43mpreprocessing_functions\u001b[49m\u001b[38;5;241;43m.\u001b[39;49m\u001b[43mread_data\u001b[49m\u001b[43m(\u001b[49m\u001b[38;5;124;43m'\u001b[39;49m\u001b[38;5;124;43m../example/example_data/example_data_eruption.csv\u001b[39;49m\u001b[38;5;124;43m'\u001b[39;49m\u001b[43m)\u001b[49m\n\u001b[1;32m      4\u001b[0m \u001b[38;5;66;03m# Data smoothing\u001b[39;00m\n\u001b[1;32m      5\u001b[0m df \u001b[38;5;241m=\u001b[39m df\u001b[38;5;241m.\u001b[39mrolling(\u001b[38;5;124m'\u001b[39m\u001b[38;5;124m6H\u001b[39m\u001b[38;5;124m'\u001b[39m, center\u001b[38;5;241m=\u001b[39m\u001b[38;5;28;01mTrue\u001b[39;00m)\u001b[38;5;241m.\u001b[39mmedian()\n",
      "File \u001b[0;32m~/Desktop/CSE583/CSE583_MtStHelens/mtsthelens/preprocessing_functions.py:190\u001b[0m, in \u001b[0;36mread_data\u001b[0;34m(path_file, cols)\u001b[0m\n\u001b[1;32m    187\u001b[0m df\u001b[38;5;241m.\u001b[39mset_index(\u001b[38;5;124m\"\u001b[39m\u001b[38;5;124mtime\u001b[39m\u001b[38;5;124m\"\u001b[39m, inplace\u001b[38;5;241m=\u001b[39m\u001b[38;5;28;01mTrue\u001b[39;00m)\n\u001b[1;32m    188\u001b[0m df\u001b[38;5;241m.\u001b[39mindex \u001b[38;5;241m=\u001b[39m pd\u001b[38;5;241m.\u001b[39mto_datetime(df\u001b[38;5;241m.\u001b[39mindex)\u001b[38;5;241m.\u001b[39mtz_localize(\u001b[38;5;28;01mNone\u001b[39;00m)\n\u001b[0;32m--> 190\u001b[0m \u001b[38;5;28;01mif\u001b[39;00m \u001b[38;5;28;43many\u001b[39;49m\u001b[43m(\u001b[49m\u001b[43mdf\u001b[49m\u001b[38;5;241;43m.\u001b[39;49m\u001b[43mvalues\u001b[49m\u001b[43m)\u001b[49m \u001b[38;5;241m!=\u001b[39m (\u001b[38;5;28mint\u001b[39m \u001b[38;5;129;01mor\u001b[39;00m \u001b[38;5;28mfloat\u001b[39m):\n\u001b[1;32m    191\u001b[0m     \u001b[38;5;28;01mraise\u001b[39;00m \u001b[38;5;167;01mTypeError\u001b[39;00m(\u001b[38;5;124m'\u001b[39m\u001b[38;5;124mThe columns except for the time column can only contain int or float values.\u001b[39m\u001b[38;5;124m'\u001b[39m)\n\u001b[1;32m    192\u001b[0m \u001b[38;5;28;01mif\u001b[39;00m cols \u001b[38;5;129;01mis\u001b[39;00m \u001b[38;5;129;01mnot\u001b[39;00m \u001b[38;5;28;01mNone\u001b[39;00m:\n",
      "\u001b[0;31mValueError\u001b[0m: The truth value of an array with more than one element is ambiguous. Use a.any() or a.all()"
     ]
    }
   ],
   "source": [
    "# Read input data\n",
    "df =  preprocessing_functions.read_data('../example/example_data/example_data_eruption.csv')\n",
    "\n",
    "# Data smoothing\n",
    "df = df.rolling('6H', center=True).median()\n",
    "\n",
    "# Remove outliers\n",
    "df = df.apply(preprocessing_functions.mask_df,axis=0) # peak detection\n",
    "df"
   ]
  },
  {
   "cell_type": "markdown",
   "id": "fd476fb1-7ec5-4975-abf4-ea0b84262ef1",
   "metadata": {},
   "source": [
    "## Data manipulation"
   ]
  },
  {
   "cell_type": "markdown",
   "id": "8d4c0990-b22f-4812-9388-acf69dee573a",
   "metadata": {},
   "source": [
    "### Stack in Time"
   ]
  },
  {
   "cell_type": "code",
   "execution_count": null,
   "id": "d83c3c50-9969-4b61-84fb-e61a317ad7af",
   "metadata": {},
   "outputs": [],
   "source": [
    "# Find the seasonal trends in the data, and create a new dataframe with the seasonality removed\n",
    "df_seasonal_trends, df_seasonality_removed = manipulation_functions.stackInTime(df)\n",
    "df_seasonal_trends\n",
    "# Save those dataframes as output csv files\n",
    "# manipulation_functions.export_csv('example_data_eruption_stacktime', df_seasonal_trends)\n",
    "# manipulation_functions.export_csv('example_data_eruption_seasonality_removed', df_seasonality_removed)"
   ]
  },
  {
   "cell_type": "markdown",
   "id": "205a87e9-77c2-4406-a830-6e8f392c880a",
   "metadata": {},
   "source": [
    "### Stack in Space"
   ]
  },
  {
   "cell_type": "code",
   "execution_count": null,
   "id": "09f56f61-6b46-41db-afc7-0faa67cdebd1",
   "metadata": {},
   "outputs": [],
   "source": [
    "# Find the differences between the stations, and the average \n",
    "df_median_stackSpace, df_stackSpace_year = manipulation_functions.stackInSpace(df)\n",
    "df_yearlyParam = manipulation_functions.stackSpace_yearParam(df_stackSpace_year)\n",
    "df_stackSpace_year\n",
    "# Save those dataframes as output csv files\n",
    "# manipulation_functions.export_csv('example_data_eruption_stackspaceYear',df_stackSpace_year)\n",
    "# manipulation_functions.export_csv('example_data_eruption_stackspaceParam',df_yearlyParam)"
   ]
  },
  {
   "cell_type": "markdown",
   "id": "1cc39c38-d693-497d-b2f4-718711f6268a",
   "metadata": {},
   "source": [
    "### Apply Filter"
   ]
  },
  {
   "cell_type": "code",
   "execution_count": null,
   "id": "871d970d-015b-48a3-842d-a99ded469e9d",
   "metadata": {},
   "outputs": [],
   "source": [
    "df = df.fillna(0)\n",
    "df_filter = manipulation_functions.filter_data(df)\n",
    "# manipulation_functions.export_csv('example_data_eruption_filter',df_filter)\n",
    "print(df_filter)\n",
    "plt.figure()\n",
    "plt.plot(df_filter)\n"
   ]
  },
  {
   "cell_type": "markdown",
   "id": "c558cc7f-0eb9-4c69-9b75-b28088b69e6d",
   "metadata": {},
   "source": [
    "## Data plotting"
   ]
  },
  {
   "cell_type": "code",
   "execution_count": null,
   "id": "bc96b4a2-5682-49ae-8538-46a6d7eaa30d",
   "metadata": {},
   "outputs": [],
   "source": [
    "# read extrusion rate data\n",
    "df_dome = pd.read_csv('../example/example_data/dome_extrusion.txt', header=0, skiprows=0)\n",
    "df_dome.set_index('Date of photography',inplace=True)\n",
    "df_dome.index = pd.to_datetime(df_dome.index).tz_localize(None)\n",
    "# df_dome['diff'] = df_dome['Total volume change(x 106 m3)']-df_dome['Total volume change(x 106 m3)'].shift(1)\n",
    "df_dome.head()"
   ]
  },
  {
   "cell_type": "code",
   "execution_count": null,
   "id": "e56143f4-e052-4881-bbf5-3714a7b08be7",
   "metadata": {},
   "outputs": [],
   "source": [
    "# df_dome.plot(marker='o')"
   ]
  },
  {
   "cell_type": "code",
   "execution_count": null,
   "id": "d1ab9e60",
   "metadata": {},
   "outputs": [],
   "source": [
    "# Plotting Time Stack vs Raw Data\n",
    "plotting_functions.plot_stack_vs_raw(df_seasonality_removed, df)\n",
    "# Plotting Filtered Timestack vs Raw Data\n",
    "plotting_functions.plot_stack_vs_raw(df_filter, df)\n",
    "# Plotting the min, max, mean and median values\n",
    "plotting_functions.plot_space_params(df_yearlyParam)\n",
    "plotting_functions.plot_extrusion(df_dome, df, df_seasonality_removed, df_filter)\n"
   ]
  },
  {
   "cell_type": "markdown",
   "id": "fc365bc6",
   "metadata": {},
   "source": [
    "### Bring data into used shape"
   ]
  },
  {
   "cell_type": "code",
   "execution_count": null,
   "id": "1f6f6f6a",
   "metadata": {},
   "outputs": [],
   "source": [
    "df.head(), df_seasonality_removed.head(), df_filter.head()"
   ]
  },
  {
   "cell_type": "code",
   "execution_count": null,
   "id": "c0dfbb2d",
   "metadata": {},
   "outputs": [],
   "source": [
    "df\n"
   ]
  },
  {
   "cell_type": "code",
   "execution_count": null,
   "id": "10adc967",
   "metadata": {},
   "outputs": [],
   "source": [
    "df_stat = manipulation_functions.stackSpace_yearParam(df) # extract statistical values\n",
    "\n",
    "# append latitude and longitude of the station as rows for plotting\n",
    "df_stat.loc['latitude'] = [df_sta.loc[df_sta['Station'] == sta, 'latitude'].values[0] for sta in df_stat.columns]\n",
    "df_stat.loc['longitude'] = [df_sta.loc[df_sta['Station'] == sta, 'longitude'].values[0] for sta in df_stat.columns]\n",
    "df_stat"
   ]
  },
  {
   "cell_type": "code",
   "execution_count": null,
   "id": "e3ab0056",
   "metadata": {},
   "outputs": [],
   "source": [
    "# Create a dictionary with Date as key for, DataFrames\n",
    "dict_test = manipulation_functions.df2dict(df, 'year')\n",
    "dict_stat = {}\n",
    "for key, value in dict_test.items():\n",
    "    df_stat = manipulation_functions.stackSpace_yearParam(value) # extract statistical values\n",
    "\n",
    "    # append latitude and longitude of the station as rows for plotting\n",
    "    df_stat.loc['latitude'] = [df_sta.loc[df_sta['Station'] == sta, 'latitude'].values[0] for sta in df_stat.columns]\n",
    "    df_stat.loc['longitude'] = [df_sta.loc[df_sta['Station'] == sta, 'longitude'].values[0] for sta in df_stat.columns]\n",
    "    dict_stat[key] = df_stat\n",
    "\n",
    "# Save the dictionary as npy\n",
    "np.save('output/data/my_file.npy', dict_stat) "
   ]
  },
  {
   "cell_type": "markdown",
   "id": "eeebbbcb",
   "metadata": {},
   "source": [
    "### Create Plots for Animation"
   ]
  },
  {
   "cell_type": "code",
   "execution_count": null,
   "id": "81aa0638",
   "metadata": {},
   "outputs": [],
   "source": [
    "read_dictionary = np.load('output/data/my_file.npy',allow_pickle='TRUE').item()\n",
    "read_dictionary"
   ]
  },
  {
   "cell_type": "code",
   "execution_count": null,
   "id": "d3f742c1-b91c-489b-ae6f-9c9928aba519",
   "metadata": {},
   "outputs": [],
   "source": [
    "plotting_functions.animation(read_dictionary, 'median', 'inferno')"
   ]
  },
  {
   "cell_type": "code",
   "execution_count": null,
   "id": "e0806d51",
   "metadata": {},
   "outputs": [],
   "source": []
  },
  {
   "cell_type": "markdown",
   "id": "44f1ad46-3273-43d2-aa67-f10583a0bf08",
   "metadata": {},
   "source": [
    "### Plot Station sorted by distance"
   ]
  },
  {
   "cell_type": "markdown",
   "id": "07736423-9a7e-4fd4-9610-89d238251510",
   "metadata": {},
   "source": [
    "This part of the project is still in progress. The example date should produce an output but we did not wrote the final functions and tests for this part."
   ]
  },
  {
   "cell_type": "code",
   "execution_count": 5,
   "id": "6b855344-4baf-4883-8c22-cd7e3b6ab862",
   "metadata": {
    "tags": []
   },
   "outputs": [
    {
     "data": {
      "text/html": [
       "<div>\n",
       "<style scoped>\n",
       "    .dataframe tbody tr th:only-of-type {\n",
       "        vertical-align: middle;\n",
       "    }\n",
       "\n",
       "    .dataframe tbody tr th {\n",
       "        vertical-align: top;\n",
       "    }\n",
       "\n",
       "    .dataframe thead th {\n",
       "        text-align: right;\n",
       "    }\n",
       "</style>\n",
       "<table border=\"1\" class=\"dataframe\">\n",
       "  <thead>\n",
       "    <tr style=\"text-align: right;\">\n",
       "      <th></th>\n",
       "      <th>Network</th>\n",
       "      <th>Station</th>\n",
       "      <th>latitude</th>\n",
       "      <th>longitude</th>\n",
       "      <th>Elevation</th>\n",
       "      <th>Sitename</th>\n",
       "      <th>StartTime</th>\n",
       "      <th>EndTime</th>\n",
       "    </tr>\n",
       "  </thead>\n",
       "  <tbody>\n",
       "    <tr>\n",
       "      <th>0</th>\n",
       "      <td>CC</td>\n",
       "      <td>BLIS</td>\n",
       "      <td>46.197472</td>\n",
       "      <td>-122.186569</td>\n",
       "      <td>2116.00</td>\n",
       "      <td>Blister, Mt. St. Helens (Dome sta)</td>\n",
       "      <td>2004-10-12T00:00:00</td>\n",
       "      <td>2005-02-17T00:00:00</td>\n",
       "    </tr>\n",
       "    <tr>\n",
       "      <th>1</th>\n",
       "      <td>CC</td>\n",
       "      <td>HOA</td>\n",
       "      <td>46.241780</td>\n",
       "      <td>-122.191830</td>\n",
       "      <td>1151.00</td>\n",
       "      <td>Hoala</td>\n",
       "      <td>2021-06-08T00:00:00</td>\n",
       "      <td>2599-12-31T23:59:59</td>\n",
       "    </tr>\n",
       "    <tr>\n",
       "      <th>2</th>\n",
       "      <td>CC</td>\n",
       "      <td>JRO</td>\n",
       "      <td>46.275270</td>\n",
       "      <td>-122.218260</td>\n",
       "      <td>1219.00</td>\n",
       "      <td>Johnston Ridge Observatory</td>\n",
       "      <td>2004-10-02T00:00:00</td>\n",
       "      <td>2599-12-31T23:59:59</td>\n",
       "    </tr>\n",
       "    <tr>\n",
       "      <th>3</th>\n",
       "      <td>CC</td>\n",
       "      <td>LOO</td>\n",
       "      <td>46.223750</td>\n",
       "      <td>-122.184390</td>\n",
       "      <td>1521.35</td>\n",
       "      <td>Loowit</td>\n",
       "      <td>2021-06-08T00:00:00</td>\n",
       "      <td>2599-12-31T23:59:59</td>\n",
       "    </tr>\n",
       "    <tr>\n",
       "      <th>4</th>\n",
       "      <td>CC</td>\n",
       "      <td>MIDE</td>\n",
       "      <td>46.197750</td>\n",
       "      <td>-122.187439</td>\n",
       "      <td>2132.00</td>\n",
       "      <td>Near old BLIS MSH</td>\n",
       "      <td>2005-02-16T00:00:00</td>\n",
       "      <td>2005-07-26T00:00:00</td>\n",
       "    </tr>\n",
       "  </tbody>\n",
       "</table>\n",
       "</div>"
      ],
      "text/plain": [
       "  Network Station   latitude   longitude  Elevation  \\\n",
       "0      CC    BLIS  46.197472 -122.186569    2116.00   \n",
       "1      CC     HOA  46.241780 -122.191830    1151.00   \n",
       "2      CC     JRO  46.275270 -122.218260    1219.00   \n",
       "3      CC     LOO  46.223750 -122.184390    1521.35   \n",
       "4      CC    MIDE  46.197750 -122.187439    2132.00   \n",
       "\n",
       "                             Sitename            StartTime  \\\n",
       "0  Blister, Mt. St. Helens (Dome sta)  2004-10-12T00:00:00   \n",
       "1                               Hoala  2021-06-08T00:00:00   \n",
       "2          Johnston Ridge Observatory  2004-10-02T00:00:00   \n",
       "3                              Loowit  2021-06-08T00:00:00   \n",
       "4                   Near old BLIS MSH  2005-02-16T00:00:00   \n",
       "\n",
       "               EndTime  \n",
       "0  2005-02-17T00:00:00  \n",
       "1  2599-12-31T23:59:59  \n",
       "2  2599-12-31T23:59:59  \n",
       "3  2599-12-31T23:59:59  \n",
       "4  2005-07-26T00:00:00  "
      ]
     },
     "execution_count": 5,
     "metadata": {},
     "output_type": "execute_result"
    }
   ],
   "source": [
    "# load station coordinates and drop the stations which are not of interresst\n",
    "sta_list =['BLIS', 'CDF', 'EDM', 'ELK', 'FL2', 'HOA', 'HSR', 'JRO', 'JUN', # specify the stations you want to use\n",
    "           'LOO', 'MIDE', 'NED', 'RAFT', 'REM', 'SEP', 'SHW', 'SOS', 'SPN5',\n",
    "           'STD', 'SUG', 'SWFL', 'TDL', 'USFR', 'VALT', 'YEL'] \n",
    "\n",
    "df_sta = pd.read_csv('./example_data/sta_log_long.txt', sep='|', header=0) # coordinates\n",
    "df_sta = df_sta[~df_sta['Station'].isin(list(set(df_sta.Station)-set(sta_list)))] # delete Stations which are not of interresst\n",
    "df_sta = df_sta.drop_duplicates(subset=['Station']) # drop one station if the station is not unique\n",
    "df_sta = df_sta.reset_index(drop=True)\n",
    "df_sta.head()"
   ]
  },
  {
   "cell_type": "code",
   "execution_count": 6,
   "id": "eb58d0b3-7aac-4ccc-9119-656516de5e10",
   "metadata": {
    "scrolled": true,
    "tags": []
   },
   "outputs": [
    {
     "data": {
      "text/html": [
       "<div>\n",
       "<style scoped>\n",
       "    .dataframe tbody tr th:only-of-type {\n",
       "        vertical-align: middle;\n",
       "    }\n",
       "\n",
       "    .dataframe tbody tr th {\n",
       "        vertical-align: top;\n",
       "    }\n",
       "\n",
       "    .dataframe thead th {\n",
       "        text-align: right;\n",
       "    }\n",
       "</style>\n",
       "<table border=\"1\" class=\"dataframe\">\n",
       "  <thead>\n",
       "    <tr style=\"text-align: right;\">\n",
       "      <th></th>\n",
       "      <th>Network</th>\n",
       "      <th>Station</th>\n",
       "      <th>latitude</th>\n",
       "      <th>longitude</th>\n",
       "      <th>Elevation</th>\n",
       "      <th>Sitename</th>\n",
       "      <th>StartTime</th>\n",
       "      <th>EndTime</th>\n",
       "      <th>dist</th>\n",
       "    </tr>\n",
       "  </thead>\n",
       "  <tbody>\n",
       "    <tr>\n",
       "      <th>8</th>\n",
       "      <td>CC</td>\n",
       "      <td>SEP</td>\n",
       "      <td>46.199780</td>\n",
       "      <td>-122.190857</td>\n",
       "      <td>2114.00</td>\n",
       "      <td>September lobe, Mt. St. Helens (Dome sta)</td>\n",
       "      <td>2004-11-05T00:00:00</td>\n",
       "      <td>2599-12-31T23:59:59</td>\n",
       "      <td>0.000000</td>\n",
       "    </tr>\n",
       "    <tr>\n",
       "      <th>4</th>\n",
       "      <td>CC</td>\n",
       "      <td>MIDE</td>\n",
       "      <td>46.197750</td>\n",
       "      <td>-122.187439</td>\n",
       "      <td>2132.00</td>\n",
       "      <td>Near old BLIS MSH</td>\n",
       "      <td>2005-02-16T00:00:00</td>\n",
       "      <td>2005-07-26T00:00:00</td>\n",
       "      <td>0.346634</td>\n",
       "    </tr>\n",
       "    <tr>\n",
       "      <th>7</th>\n",
       "      <td>CC</td>\n",
       "      <td>REM</td>\n",
       "      <td>46.200200</td>\n",
       "      <td>-122.185500</td>\n",
       "      <td>1905.44</td>\n",
       "      <td>Rembrant, Mount St. Helens</td>\n",
       "      <td>2018-07-25T00:00:00</td>\n",
       "      <td>2599-12-31T23:59:59</td>\n",
       "      <td>0.414926</td>\n",
       "    </tr>\n",
       "    <tr>\n",
       "      <th>5</th>\n",
       "      <td>CC</td>\n",
       "      <td>NED</td>\n",
       "      <td>46.200249</td>\n",
       "      <td>-122.185493</td>\n",
       "      <td>2060.00</td>\n",
       "      <td>NE part of old Dome, Mt. St. Helens (Dome sta)</td>\n",
       "      <td>2004-11-20T00:00:00</td>\n",
       "      <td>2013-05-01T00:00:00</td>\n",
       "      <td>0.416109</td>\n",
       "    </tr>\n",
       "    <tr>\n",
       "      <th>0</th>\n",
       "      <td>CC</td>\n",
       "      <td>BLIS</td>\n",
       "      <td>46.197472</td>\n",
       "      <td>-122.186569</td>\n",
       "      <td>2116.00</td>\n",
       "      <td>Blister, Mt. St. Helens (Dome sta)</td>\n",
       "      <td>2004-10-12T00:00:00</td>\n",
       "      <td>2005-02-17T00:00:00</td>\n",
       "      <td>0.418066</td>\n",
       "    </tr>\n",
       "  </tbody>\n",
       "</table>\n",
       "</div>"
      ],
      "text/plain": [
       "  Network Station   latitude   longitude  Elevation  \\\n",
       "8      CC     SEP  46.199780 -122.190857    2114.00   \n",
       "4      CC    MIDE  46.197750 -122.187439    2132.00   \n",
       "7      CC     REM  46.200200 -122.185500    1905.44   \n",
       "5      CC     NED  46.200249 -122.185493    2060.00   \n",
       "0      CC    BLIS  46.197472 -122.186569    2116.00   \n",
       "\n",
       "                                         Sitename            StartTime  \\\n",
       "8       September lobe, Mt. St. Helens (Dome sta)  2004-11-05T00:00:00   \n",
       "4                               Near old BLIS MSH  2005-02-16T00:00:00   \n",
       "7                      Rembrant, Mount St. Helens  2018-07-25T00:00:00   \n",
       "5  NE part of old Dome, Mt. St. Helens (Dome sta)  2004-11-20T00:00:00   \n",
       "0              Blister, Mt. St. Helens (Dome sta)  2004-10-12T00:00:00   \n",
       "\n",
       "               EndTime      dist  \n",
       "8  2599-12-31T23:59:59  0.000000  \n",
       "4  2005-07-26T00:00:00  0.346634  \n",
       "7  2599-12-31T23:59:59  0.414926  \n",
       "5  2013-05-01T00:00:00  0.416109  \n",
       "0  2005-02-17T00:00:00  0.418066  "
      ]
     },
     "execution_count": 6,
     "metadata": {},
     "output_type": "execute_result"
    }
   ],
   "source": [
    "# get the distance between the stations and sort them in increasing order (relative to station SEP -> crater center)\n",
    "ref_sta = 'SEP' # define the reference station, we will get distance from all other stations to this station\n",
    "df_sta['dist'] = df_sta.apply(lambda x: preprocessing_functions.calculate_distance(x['latitude'],df_sta.latitude[df_sta['Station']==ref_sta].values[0] , x['longitude'],df_sta.longitude[df_sta['Station']==ref_sta].values[0] ), axis=1)\n",
    "df_sta = df_sta.sort_values(by=['dist'])\n",
    "sta_sorted = df_sta['Station'].to_list()\n",
    "df_sta.head()"
   ]
  },
  {
   "cell_type": "code",
   "execution_count": 7,
   "id": "ae7fc392-3edd-439b-af81-d7485b9597dc",
   "metadata": {},
   "outputs": [
    {
     "ename": "NameError",
     "evalue": "name 'df' is not defined",
     "output_type": "error",
     "traceback": [
      "\u001b[0;31m---------------------------------------------------------------------------\u001b[0m",
      "\u001b[0;31mNameError\u001b[0m                                 Traceback (most recent call last)",
      "Cell \u001b[0;32mIn[7], line 17\u001b[0m\n\u001b[1;32m     10\u001b[0m     \u001b[38;5;28;01mreturn\u001b[39;00m df[sorted_columns]\n\u001b[1;32m     12\u001b[0m \u001b[38;5;66;03m# column names and drop too short stations\u001b[39;00m\n\u001b[1;32m     13\u001b[0m \u001b[38;5;66;03m# value = df.rename(columns={\"YEL/VALT\": \"YEL\"})\u001b[39;00m\n\u001b[1;32m     14\u001b[0m \u001b[38;5;66;03m# value = df.drop(['NED','JRO'], axis=1)\u001b[39;00m\n\u001b[1;32m     15\u001b[0m \n\u001b[1;32m     16\u001b[0m \u001b[38;5;66;03m# resample\u001b[39;00m\n\u001b[0;32m---> 17\u001b[0m df \u001b[38;5;241m=\u001b[39m \u001b[43mdf\u001b[49m\u001b[38;5;241m.\u001b[39mresample(\u001b[38;5;124m'\u001b[39m\u001b[38;5;124m1D\u001b[39m\u001b[38;5;124m'\u001b[39m)\u001b[38;5;241m.\u001b[39mmedian()\n\u001b[1;32m     19\u001b[0m \u001b[38;5;66;03m# resample\u001b[39;00m\n\u001b[1;32m     20\u001b[0m df \u001b[38;5;241m=\u001b[39m df\u001b[38;5;241m.\u001b[39mrolling(\u001b[38;5;124m'\u001b[39m\u001b[38;5;124m2D\u001b[39m\u001b[38;5;124m'\u001b[39m, center\u001b[38;5;241m=\u001b[39m\u001b[38;5;28;01mTrue\u001b[39;00m)\u001b[38;5;241m.\u001b[39mmedian()\n",
      "\u001b[0;31mNameError\u001b[0m: name 'df' is not defined"
     ]
    }
   ],
   "source": [
    "# sort the columns corresponding to crater distane\n",
    "def sort_columns(df, column_order):\n",
    "    # Filter the list to only include existing columns in the DataFrame\n",
    "    valid_columns = [col for col in column_order if col in df.columns]\n",
    "\n",
    "    # Sort the DataFrame columns based on the valid columns list\n",
    "    sorted_columns = valid_columns + [col for col in df.columns if col not in valid_columns]\n",
    "\n",
    "    # Return the DataFrame with sorted columns\n",
    "    return df[sorted_columns]\n",
    "\n",
    "# column names and drop too short stations\n",
    "# value = df.rename(columns={\"YEL/VALT\": \"YEL\"})\n",
    "# value = df.drop(['NED','JRO'], axis=1)\n",
    "\n",
    "# resample\n",
    "df = df.resample('1D').median()\n",
    "\n",
    "# resample\n",
    "df = df.rolling('2D', center=True).median()\n",
    "\n",
    "# Sort the columns based on the desired order\n",
    "df_sorted = sort_columns(df, sta_sorted)\n",
    "\n",
    "# Display the result\n",
    "df_sorted"
   ]
  },
  {
   "cell_type": "code",
   "execution_count": null,
   "id": "02978700-a89d-4804-b876-5fea9e93ef2b",
   "metadata": {},
   "outputs": [],
   "source": [
    " # Normalize the columns\n",
    "df_sorted_norm = df_sorted.apply(preprocessing_functions.norm, axis=0)\n",
    "\n",
    "# Display the result\n",
    "df_sorted_norm"
   ]
  },
  {
   "cell_type": "code",
   "execution_count": null,
   "id": "b823ff0a-42ae-456b-824a-9cc7347839b6",
   "metadata": {},
   "outputs": [],
   "source": [
    "# read txt-file with UTC times and type of activity\n",
    "df_activity = pd.read_csv('./example_data/mt_st_helens_activity.txt', header=1, skiprows=11)\n",
    "df_activity.set_index('UTC',inplace=True)\n",
    "df_activity.index = pd.to_datetime(df_activity.index).tz_localize(None)\n",
    "\n",
    "activity_dome = df_activity.copy()\n",
    "activity_dome_start = activity_dome[activity_dome['activity' ]=='d'].take([0,2,3,4,5,6])\n",
    "activity_dome_end = activity_dome[activity_dome['activity' ]=='ed'].take([1,2,3,4,5,6])\n",
    "activity_dome_start, activity_dome_end"
   ]
  },
  {
   "cell_type": "code",
   "execution_count": null,
   "id": "2069c276-fa10-4aef-a5f3-6d0e4f0745e9",
   "metadata": {},
   "outputs": [],
   "source": [
    "from matplotlib.pyplot import cm\n",
    "# Plot each column with an offset along the y-axis\n",
    "year_plot = [2004, 2005]\n",
    "\n",
    "fig, ax = plt.subplots(figsize=(6.4*2, 4.8))\n",
    "offset = 0\n",
    "\n",
    "for col in df_sorted_norm.columns:\n",
    "    y_values = df_sorted_norm[col] + offset\n",
    "    ax.plot(df_sorted_norm.index, y_values, label=col)\n",
    "    offset += 0.5  # Adjust the offset as needed\n",
    "\n",
    "ax.set_yticks(np.arange(0.25,(len(df_sorted_norm.columns))/2,0.5))\n",
    "ax.set_yticklabels(df_sorted_norm.columns)\n",
    "    \n",
    "plt.xlim([datetime.datetime(year_plot[0],1,1), datetime.datetime(year_plot[-1],1,1)])\n",
    "\n",
    "color = cm.gray(np.linspace(0, 1, len(activity_dome_start)+2))\n",
    "\n",
    "for i in range(len(activity_dome_start)):\n",
    "    sdate = activity_dome_start.index[i].to_pydatetime() # start date\n",
    "    edate = activity_dome_end.index[i].to_pydatetime() # end date\n",
    "    ax.axvspan(sdate, edate, alpha=0.25, color=color[i])\n",
    "    \n",
    "plt.title('DSAR')\n",
    "# plt.savefig('output_path', dpi=300, bbox_inches='tight')\n",
    "plt.show()"
   ]
  }
 ],
 "metadata": {
  "kernelspec": {
   "display_name": "Python 3 (ipykernel)",
   "language": "python",
   "name": "python3"
  },
  "language_info": {
   "codemirror_mode": {
    "name": "ipython",
    "version": 3
   },
   "file_extension": ".py",
   "mimetype": "text/x-python",
   "name": "python",
   "nbconvert_exporter": "python",
   "pygments_lexer": "ipython3",
   "version": "3.12.0"
  }
 },
 "nbformat": 4,
 "nbformat_minor": 5
}
