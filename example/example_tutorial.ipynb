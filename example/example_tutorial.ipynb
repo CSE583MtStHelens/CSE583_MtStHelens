{
 "cells": [
  {
   "cell_type": "markdown",
   "id": "45baeee8-3c9b-47f7-9bee-63441bd83ea5",
   "metadata": {},
   "source": [
    "# Tutorial"
   ]
  },
  {
   "cell_type": "code",
   "execution_count": null,
   "id": "ad09cd2a-7428-4746-b4d2-19766d22cc75",
   "metadata": {},
   "outputs": [],
   "source": [
    "# import all packages you will need\n",
    "import pandas as pd\n",
    "import numpy as np\n",
    "import matplotlib.pyplot as plt\n",
    "import scipy\n",
    "import scipy.signal\n",
    "import datetime\n",
    "import glob\n",
    "import math\n",
    "import sys"
   ]
  },
  {
   "cell_type": "code",
   "execution_count": null,
   "id": "d1d5e8bf-b89e-4185-9c76-b1ad6f055e9f",
   "metadata": {},
   "outputs": [],
   "source": [
    "import sys, os\n",
    "# Get the current script’s directory\n",
    "current_directory = os.getcwd()\n",
    "# Go back one folder level\n",
    "parent_directory = os.path.abspath(os.path.join(current_directory, os.pardir))\n",
    "sys.path.insert(0, parent_directory)\n",
    "from mtsthelens import preprocessing_functions, manipulation_functions, plotting_functions"
   ]
  },
  {
   "cell_type": "markdown",
   "id": "f1cdf993-c390-467f-b55f-2b861c6532ac",
   "metadata": {},
   "source": [
    "## Read & preprocess data"
   ]
  },
  {
   "cell_type": "code",
   "execution_count": null,
   "id": "258bcfb5-fa8c-4213-aa9b-42b15db9a6f5",
   "metadata": {},
   "outputs": [],
   "source": [
    "# df =  preprocessing_functions.read_data('../data/DSAR_extended2_long.csv')\n",
    "df =  preprocessing_functions.read_data('../example/example_data/example_data_eruption.csv')\n",
    "df"
   ]
  },
  {
   "cell_type": "code",
   "execution_count": null,
   "id": "0e55392b-9f2f-4e32-a4b0-c8110509e25e",
   "metadata": {},
   "outputs": [],
   "source": [
    "# data smoothing\n",
    "df = df.rolling('6H', center=True).median()"
   ]
  },
  {
   "cell_type": "code",
   "execution_count": null,
   "id": "13b1d494-a1c1-4f9d-ac12-33be8f15ff87",
   "metadata": {},
   "outputs": [],
   "source": [
    "# remove outliers\n",
    "df = df.apply(preprocessing_functions.mask_df,axis=0) # remove outliers (peak detection)"
   ]
  },
  {
   "cell_type": "markdown",
   "id": "fd476fb1-7ec5-4975-abf4-ea0b84262ef1",
   "metadata": {},
   "source": [
    "## Data manipulation"
   ]
  },
  {
   "cell_type": "markdown",
   "id": "8d4c0990-b22f-4812-9388-acf69dee573a",
   "metadata": {},
   "source": [
    "### Stack in Time"
   ]
  },
  {
   "cell_type": "code",
   "execution_count": null,
   "id": "d83c3c50-9969-4b61-84fb-e61a317ad7af",
   "metadata": {},
   "outputs": [],
   "source": [
    "df_stackTime = manipulation_functions.stackInTime(df)\n",
    "manipulation_functions.export_csv('example_data_eruption_stacktime',df_stackTime)\n",
    "df_stackTime"
   ]
  },
  {
   "cell_type": "markdown",
   "id": "205a87e9-77c2-4406-a830-6e8f392c880a",
   "metadata": {},
   "source": [
    "### Stack in Space"
   ]
  },
  {
   "cell_type": "code",
   "execution_count": null,
   "id": "09f56f61-6b46-41db-afc7-0faa67cdebd1",
   "metadata": {},
   "outputs": [],
   "source": [
    "df_median_stackSpace, df_stackSpace_year = manipulation_functions.stackInSpace(df)\n",
    "df_yearlyParam = manipulation_functions.stackSpace_yearParam(df_stackSpace_year)\n",
    "manipulation_functions.export_csv('example_data_eruption_stackspaceYear',df_stackSpace_year)\n",
    "manipulation_functions.export_csv('example_data_eruption_stackspaceParam',df_yearlyParam)"
   ]
  },
  {
   "cell_type": "markdown",
   "id": "1cc39c38-d693-497d-b2f4-718711f6268a",
   "metadata": {},
   "source": [
    "### Apply Filter"
   ]
  },
  {
   "cell_type": "code",
   "execution_count": null,
   "id": "871d970d-015b-48a3-842d-a99ded469e9d",
   "metadata": {},
   "outputs": [],
   "source": [
    "df = df.fillna(0)\n",
    "df_filter = manipulation_functions.filter_data(df)\n",
    "manipulation_functions.export_csv('example_data_eruption_filter',df_filter)\n",
    "print(df_filter)\n",
    "plt.figure()\n",
    "plt.plot(df_filter)"
   ]
  },
  {
   "cell_type": "markdown",
   "id": "c558cc7f-0eb9-4c69-9b75-b28088b69e6d",
   "metadata": {},
   "source": [
    "## Data plotting"
   ]
  },
  {
   "cell_type": "code",
   "execution_count": null,
   "id": "bc96b4a2-5682-49ae-8538-46a6d7eaa30d",
   "metadata": {},
   "outputs": [],
   "source": [
    "# read extrusion rate data\n",
    "df_dome = pd.read_csv('../example/example_data/dome_extrusion.txt', header=0, skiprows=0)\n",
    "df_dome.set_index('Date of photography',inplace=True)\n",
    "df_dome.index = pd.to_datetime(df_dome.index).tz_localize(None)\n",
    "df_dome['diff'] = df_dome['Total volume change(x 106 m3)']-df_dome['Total volume change(x 106 m3)'].shift(1)\n",
    "df_dome"
   ]
  },
  {
   "cell_type": "code",
   "execution_count": null,
   "id": "e56143f4-e052-4881-bbf5-3714a7b08be7",
   "metadata": {},
   "outputs": [],
   "source": [
    "df_dome.plot(marker='o')"
   ]
  },
  {
   "cell_type": "code",
   "execution_count": null,
   "id": "6b855344-4baf-4883-8c22-cd7e3b6ab862",
   "metadata": {
    "tags": []
   },
   "outputs": [],
   "source": [
    "# load station coordinates and drop the stations which are not of interresst\n",
    "sta_list =['BLIS', 'CDF', 'EDM', 'ELK', 'FL2', 'HOA', 'HSR', 'JRO', 'JUN', # specify the stations you want to use\n",
    "           'LOO', 'MIDE', 'NED', 'RAFT', 'REM', 'SEP', 'SHW', 'SOS', 'SPN5',\n",
    "           'STD', 'SUG', 'SWFL', 'TDL', 'USFR', 'VALT', 'YEL'] \n",
    "\n",
    "df_sta = pd.read_csv('./example_data/sta_log_long.txt', sep='|', header=0) # coordinates\n",
    "df = df_sta[~df_sta['Station'].isin(list(set(df_sta.Station)-set(sta_list)))] # delete Stations which are not of interresst\n",
    "df_sta = df_sta.drop_duplicates(subset=['Station']) # drop one station if the station is not unique\n",
    "df_sta = df_sta.reset_index(drop=True)\n",
    "df_sta"
   ]
  },
  {
   "cell_type": "code",
   "execution_count": null,
   "id": "eb58d0b3-7aac-4ccc-9119-656516de5e10",
   "metadata": {
    "scrolled": true,
    "tags": []
   },
   "outputs": [],
   "source": [
    "# get the distance between the stations and sort them in increasing order (relative to station SEP -> crater center)\n",
    "ref_sta = 'SEP' # define the reference station, we will get distance from all other stations to this station\n",
    "df_sta['dist'] = df_sta.apply(lambda x: preprocessing_functions.calculate_distance(x['latitude'],df_sta.latitude[df_sta['Station']==ref_sta] , x['longitude'],df_sta.longitude[df_sta['Station']==ref_sta] ), axis=1)\n",
    "df_sta = df_sta.sort_values(by=['dist'])\n",
    "sta_sorted = df_sta['Station'].to_list()\n",
    "df_sta"
   ]
  },
  {
   "cell_type": "code",
   "execution_count": null,
   "id": "d3f742c1-b91c-489b-ae6f-9c9928aba519",
   "metadata": {},
   "outputs": [],
   "source": []
  }
 ],
 "metadata": {
  "kernelspec": {
   "display_name": "Python 3 (ipykernel)",
   "language": "python",
   "name": "python3"
  },
  "language_info": {
   "codemirror_mode": {
    "name": "ipython",
    "version": 3
   },
   "file_extension": ".py",
   "mimetype": "text/x-python",
   "name": "python",
   "nbconvert_exporter": "python",
   "pygments_lexer": "ipython3",
   "version": "3.11.5"
  }
 },
 "nbformat": 4,
 "nbformat_minor": 5
}
